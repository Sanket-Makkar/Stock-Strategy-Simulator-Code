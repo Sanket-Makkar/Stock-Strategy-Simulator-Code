{
 "cells": [
  {
   "cell_type": "code",
   "execution_count": 1,
   "id": "a9225901-6b5e-4aaa-a14d-17eefac33d9e",
   "metadata": {},
   "outputs": [
    {
     "name": "stdout",
     "output_type": "stream",
     "text": [
      "enter your stock\n"
     ]
    },
    {
     "name": "stdin",
     "output_type": "stream",
     "text": [
      " tsla\n"
     ]
    },
    {
     "name": "stdout",
     "output_type": "stream",
     "text": [
      "available money to spend\n"
     ]
    },
    {
     "name": "stdin",
     "output_type": "stream",
     "text": [
      " 1000\n"
     ]
    },
    {
     "name": "stdout",
     "output_type": "stream",
     "text": [
      "transaction count\n"
     ]
    },
    {
     "name": "stdin",
     "output_type": "stream",
     "text": [
      " 10\n"
     ]
    },
    {
     "name": "stdout",
     "output_type": "stream",
     "text": [
      "OccasionalDoubleTracking Y/N:\n"
     ]
    },
    {
     "name": "stdin",
     "output_type": "stream",
     "text": [
      " n\n"
     ]
    },
    {
     "name": "stdout",
     "output_type": "stream",
     "text": [
      "tracking...\n",
      "--------------------------------------------\n",
      "buying\n",
      "buyVar:  707.6588134765625\n",
      "sellVar: 707.8800048828125\n",
      "profit: 0.22119140625\n",
      "--------------------------------------------\n",
      "buying\n",
      "buyVar:  707.610107421875\n",
      "sellVar: 707.72998046875\n",
      "profit: 0.119873046875\n",
      "--------------------------------------------\n",
      "buying\n",
      "buyVar:  707.7899780273438\n",
      "sellVar: 707.7000122070312\n",
      "profit: -0.0899658203125\n",
      "--------------------------------------------\n",
      "buying\n",
      "buyVar:  708.6300048828125\n",
      "sellVar: 708.7899780273438\n",
      "profit: 0.15997314453125\n",
      "--------------------------------------------\n",
      "buying\n",
      "buyVar:  709.3399047851562\n",
      "sellVar: 709.1599731445312\n",
      "profit: -0.179931640625\n",
      "--------------------------------------------\n",
      "shorting\n",
      "buyVar:  709.2000122070312\n",
      "sellVar: 709.22998046875\n",
      "profit :-0.02996826171875\n",
      "--------------------------------------------\n",
      "shorting\n",
      "buyVar:  709.1900024414062\n",
      "sellVar: 709.030029296875\n",
      "profit :0.15997314453125\n",
      "--------------------------------------------\n",
      "shorting\n",
      "buyVar:  708.9500122070312\n",
      "sellVar: 708.9500122070312\n",
      "profit :0.0\n",
      "--------------------------------------------\n",
      "buying\n",
      "buyVar:  709.2984008789062\n",
      "sellVar: 709.344970703125\n",
      "profit: 0.04656982421875\n",
      "--------------------------------------------\n",
      "shorting\n",
      "buyVar:  709.1199951171875\n",
      "sellVar: 709.1707763671875\n",
      "profit :-0.05078125\n",
      "--------------------------------------------\n",
      "total profit: 0.35693359375\n",
      "percent profit: 1.000356933593751.000356933593751.000356933593751.000356933593751.000356933593751.000356933593751.000356933593751.000356933593751.000356933593751.000356933593751.000356933593751.000356933593751.000356933593751.000356933593751.000356933593751.000356933593751.000356933593751.000356933593751.000356933593751.000356933593751.000356933593751.000356933593751.000356933593751.000356933593751.000356933593751.000356933593751.000356933593751.000356933593751.000356933593751.000356933593751.000356933593751.000356933593751.000356933593751.000356933593751.000356933593751.000356933593751.000356933593751.000356933593751.000356933593751.000356933593751.000356933593751.000356933593751.000356933593751.000356933593751.000356933593751.000356933593751.000356933593751.000356933593751.000356933593751.000356933593751.000356933593751.000356933593751.000356933593751.000356933593751.000356933593751.000356933593751.000356933593751.000356933593751.000356933593751.000356933593751.000356933593751.000356933593751.000356933593751.000356933593751.000356933593751.000356933593751.000356933593751.000356933593751.000356933593751.000356933593751.000356933593751.000356933593751.000356933593751.000356933593751.000356933593751.000356933593751.000356933593751.000356933593751.000356933593751.000356933593751.000356933593751.000356933593751.000356933593751.000356933593751.000356933593751.000356933593751.000356933593751.000356933593751.000356933593751.000356933593751.000356933593751.000356933593751.000356933593751.000356933593751.000356933593751.000356933593751.000356933593751.000356933593751.000356933593751.00035693359375\n",
      "Total money value :1000.35693359375\n"
     ]
    }
   ],
   "source": [
    "from yahoo_fin import stock_info as si\n",
    "import time\n",
    "            \n",
    "buySellChart = []\n",
    "liveDataChart = []\n",
    "\n",
    "buyState = False\n",
    "bucketVar = 0\n",
    "totalBuySellChartData = 0\n",
    "total = 0\n",
    "print(\"enter your stock\")\n",
    "ticker = input()\n",
    "print(\"available money to spend\")\n",
    "money2 = input()\n",
    "print(\"transaction count\")\n",
    "transaction = int(input())\n",
    "print(\"OccasionalDoubleTracking Y/N:\" )\n",
    "ODT = input()\n",
    "print(\"tracking...\")\n",
    "UpOrDown = 0\n",
    "UOD = 0\n",
    "UpOrDown1 = 0\n",
    "shortVar = 0\n",
    "returnVar = 0\n",
    "meanDevTot = 0\n",
    "money1 = float(money2)\n",
    "money = int(money1)\n",
    "Money = money\n",
    "Spendable = 0\n",
    "moneyOption = si.get_live_price(ticker)\n",
    "onOff = False\n",
    "while (money - moneyOption) > 0:\n",
    "        money -= moneyOption\n",
    "        Spendable += 1\n",
    "for i in range (transaction):\n",
    "    UpOrDown = 0\n",
    "    UOD = 0\n",
    "    UpOrDown1 = 0\n",
    "    buyVar = 0\n",
    "    sellVar = 0\n",
    "    bucketVar = 0\n",
    "    totalBuySellChartData = 0\n",
    "    total = 0\n",
    "    price = si.get_live_price(ticker)\n",
    "    price2 = si.get_live_price(ticker)\n",
    "    liveDataChart.append(price)\n",
    "    while len(liveDataChart) < 30:\n",
    "        while price == price2:\n",
    "            price2 = si.get_live_price(ticker)\n",
    "        liveDataChart.append(price2)\n",
    "        price = price2\n",
    "    joseph = 0\n",
    "    if not liveDataChart:\n",
    "        joseph = 0\n",
    "    for j in range(len(liveDataChart)):\n",
    "        joseph = joseph + liveDataChart[j]\n",
    "    joseph = joseph/len(liveDataChart)\n",
    "    total = joseph\n",
    "    for george in range(len(liveDataChart)):\n",
    "        UpOrDown1 += pow((pow((liveDataChart[george] - joseph), 2)), .5)\n",
    "    UpOrDown = UpOrDown1/len(liveDataChart)\n",
    "    UOD = (UpOrDown/2)\n",
    "    if not liveDataChart:\n",
    "        print(\"dang\")\n",
    "    else:\n",
    "        if liveDataChart[0] < total:\n",
    "            #buying \n",
    "            print(\"--------------------------------------------\")\n",
    "            print(\"buying\")\n",
    "            buyVar = si.get_live_price(ticker)\n",
    "            sellVar = si.get_live_price(ticker)\n",
    "            while ((si.get_live_price(ticker)) < (buyVar + UOD)):\n",
    "                sellVar = si.get_live_price(ticker)\n",
    "                if (si.get_live_price(ticker) < (buyVar - (UOD/2))):\n",
    "                    sellVar = si.get_live_price(ticker)\n",
    "                    break\n",
    "            print(\"buyVar:  \" + str(buyVar))\n",
    "            print(\"sellVar: \" + str(sellVar))\n",
    "            print(\"profit: \" + str((sellVar - buyVar) * Spendable))\n",
    "            buySellChart.append((sellVar - buyVar) * Spendable)\n",
    "        elif liveDataChart[0] > total:\n",
    "            #shorting\n",
    "            print(\"--------------------------------------------\")\n",
    "            print(\"shorting\")\n",
    "            buyVar = si.get_live_price(ticker)\n",
    "            sellVar = si.get_live_price(ticker)\n",
    "            while ((si.get_live_price(ticker)) > (buyVar - UOD)):\n",
    "                sellVar = si.get_live_price(ticker)\n",
    "                if (si.get_live_price(ticker) > (buyVar + (UOD/2))):\n",
    "                    sellVar = si.get_live_price(ticker)\n",
    "                    break\n",
    "            print(\"buyVar:  \" + str(buyVar))\n",
    "            print(\"sellVar: \" + str(sellVar))\n",
    "            print(\"profit :\" + str((buyVar - sellVar) * Spendable))\n",
    "            buySellChart.append((buyVar - sellVar) * Spendable)\n",
    "    if ODT == 'Y':\n",
    "        if onOff == True:\n",
    "            liveDataChart = []\n",
    "            onOff = False\n",
    "        else:\n",
    "            onOff = True\n",
    "        print(\"round \" + str(i + 1))\n",
    "    else:\n",
    "        liveDataChart = []\n",
    "\n",
    "for i in range(len(buySellChart)):\n",
    "    totalBuySellChartData = totalBuySellChartData + buySellChart[i]\n",
    "print(\"--------------------------------------------\")\n",
    "print(\"total profit: \" + str(totalBuySellChartData))\n",
    "print(\"percent profit: \" + str(((totalBuySellChartData + Money)/Money))*100)\n",
    "print(\"Total money value :\" + str(totalBuySellChartData + Money))"
   ]
  },
  {
   "cell_type": "code",
   "execution_count": null,
   "id": "ce74e099-5fc2-4c28-a72f-e04a82747bcf",
   "metadata": {},
   "outputs": [],
   "source": []
  }
 ],
 "metadata": {
  "kernelspec": {
   "display_name": "Python 3",
   "language": "python",
   "name": "python3"
  },
  "language_info": {
   "codemirror_mode": {
    "name": "ipython",
    "version": 3
   },
   "file_extension": ".py",
   "mimetype": "text/x-python",
   "name": "python",
   "nbconvert_exporter": "python",
   "pygments_lexer": "ipython3",
   "version": "3.9.5"
  }
 },
 "nbformat": 4,
 "nbformat_minor": 5
}
