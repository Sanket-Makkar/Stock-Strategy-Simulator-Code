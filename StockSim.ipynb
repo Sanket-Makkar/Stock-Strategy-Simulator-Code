{
 "cells": [
  {
   "cell_type": "code",
   "execution_count": 16,
   "id": "25560934-4f8d-499c-822f-62aefbcfda5d",
   "metadata": {},
   "outputs": [
    {
     "name": "stdout",
     "output_type": "stream",
     "text": [
      "82.95\n",
      "81.19\n",
      "78.99\n",
      "85.21\n",
      "87.41999999999999\n"
     ]
    },
    {
     "ename": "KeyboardInterrupt",
     "evalue": "",
     "output_type": "error",
     "traceback": [
      "\u001b[1;31m---------------------------------------------------------------------------\u001b[0m",
      "\u001b[1;31mKeyboardInterrupt\u001b[0m                         Traceback (most recent call last)",
      "\u001b[1;32m<ipython-input-16-c0f41da606c7>\u001b[0m in \u001b[0;36m<module>\u001b[1;34m\u001b[0m\n\u001b[0;32m      9\u001b[0m     \u001b[0mcREfactor\u001b[0m \u001b[1;33m=\u001b[0m \u001b[0mround\u001b[0m\u001b[1;33m(\u001b[0m\u001b[0mreFactor\u001b[0m \u001b[1;33m*\u001b[0m \u001b[0mreAgainFactor\u001b[0m\u001b[1;33m,\u001b[0m \u001b[1;36m2\u001b[0m\u001b[1;33m)\u001b[0m\u001b[1;33m\u001b[0m\u001b[1;33m\u001b[0m\u001b[0m\n\u001b[0;32m     10\u001b[0m     \u001b[1;32mif\u001b[0m \u001b[0mrFactor\u001b[0m \u001b[1;33m>\u001b[0m \u001b[1;36m.49\u001b[0m\u001b[1;33m:\u001b[0m\u001b[1;33m\u001b[0m\u001b[1;33m\u001b[0m\u001b[0m\n\u001b[1;32m---> 11\u001b[1;33m         \u001b[0mtime\u001b[0m\u001b[1;33m.\u001b[0m\u001b[0msleep\u001b[0m\u001b[1;33m(\u001b[0m\u001b[1;36m3\u001b[0m\u001b[1;33m)\u001b[0m\u001b[1;33m\u001b[0m\u001b[1;33m\u001b[0m\u001b[0m\n\u001b[0m\u001b[0;32m     12\u001b[0m         \u001b[0mstockPrice\u001b[0m \u001b[1;33m=\u001b[0m \u001b[0mstockPrice\u001b[0m \u001b[1;33m+\u001b[0m \u001b[0mcREfactor\u001b[0m\u001b[1;33m\u001b[0m\u001b[1;33m\u001b[0m\u001b[0m\n\u001b[0;32m     13\u001b[0m         \u001b[0mprint\u001b[0m\u001b[1;33m(\u001b[0m\u001b[0mstockPrice\u001b[0m\u001b[1;33m)\u001b[0m\u001b[1;33m\u001b[0m\u001b[1;33m\u001b[0m\u001b[0m\n",
      "\u001b[1;31mKeyboardInterrupt\u001b[0m: "
     ]
    }
   ],
   "source": [
    "from random import random\n",
    "import time\n",
    "stockPrice = round(random() * 100, 2)\n",
    "print(stockPrice)\n",
    "while True:\n",
    "    rFactor = round(random(), 2)\n",
    "    reFactor = round(random(), 3)\n",
    "    reAgainFactor = round(random(), 4) * 10\n",
    "    cREfactor = round(reFactor * reAgainFactor, 2)\n",
    "    if rFactor > .49:\n",
    "        time.sleep(3)\n",
    "        stockPrice = stockPrice + cREfactor\n",
    "        print(stockPrice)\n",
    "    else:\n",
    "        time.sleep(3)\n",
    "        stockPrice = stockPrice - cREfactor\n",
    "        print(stockPrice)"
   ]
  },
  {
   "cell_type": "code",
   "execution_count": null,
   "id": "db5c4e40-14e8-4ae6-a38e-ee98ca4e55d7",
   "metadata": {},
   "outputs": [],
   "source": []
  },
  {
   "cell_type": "code",
   "execution_count": null,
   "id": "64d56709-1b8c-4951-94f6-c7421c166249",
   "metadata": {},
   "outputs": [],
   "source": []
  }
 ],
 "metadata": {
  "kernelspec": {
   "display_name": "Python 3",
   "language": "python",
   "name": "python3"
  },
  "language_info": {
   "codemirror_mode": {
    "name": "ipython",
    "version": 3
   },
   "file_extension": ".py",
   "mimetype": "text/x-python",
   "name": "python",
   "nbconvert_exporter": "python",
   "pygments_lexer": "ipython3",
   "version": "3.9.5"
  }
 },
 "nbformat": 4,
 "nbformat_minor": 5
}
