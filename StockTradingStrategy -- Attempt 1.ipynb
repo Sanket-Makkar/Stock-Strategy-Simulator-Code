{
 "cells": [
  {
   "cell_type": "code",
   "execution_count": 1,
   "id": "10d437a5-d4fb-423c-a524-f539e8ed0677",
   "metadata": {},
   "outputs": [
    {
     "name": "stdout",
     "output_type": "stream",
     "text": [
      "enter your stock\n"
     ]
    },
    {
     "name": "stdin",
     "output_type": "stream",
     "text": [
      " tsla\n"
     ]
    },
    {
     "name": "stdout",
     "output_type": "stream",
     "text": [
      "available money to spend\n"
     ]
    },
    {
     "name": "stdin",
     "output_type": "stream",
     "text": [
      " 1000\n"
     ]
    },
    {
     "name": "stdout",
     "output_type": "stream",
     "text": [
      "transaction count\n"
     ]
    },
    {
     "name": "stdin",
     "output_type": "stream",
     "text": [
      " 3\n"
     ]
    },
    {
     "name": "stdout",
     "output_type": "stream",
     "text": [
      "tracking...\n",
      "1\n",
      "2\n",
      "3\n",
      "--------------------------------------------\n",
      "total profit: 0\n",
      "percent profit: 100.0\n",
      "Total money value :1000.0\n",
      "Percent Accurate: 0.0\n"
     ]
    }
   ],
   "source": [
    "from yahoo_fin import stock_info as si\n",
    "import time\n",
    "            \n",
    "buySellChart = []\n",
    "liveDataChart = []\n",
    "\n",
    "buyState = False\n",
    "bucketVar = 0\n",
    "totalBuySellChartData = 0\n",
    "total = 0\n",
    "print(\"enter your stock\")\n",
    "ticker = input()\n",
    "print(\"available money to spend\")\n",
    "money2 = input()\n",
    "print(\"transaction count\")\n",
    "transaction = int(input())\n",
    "print(\"tracking...\")\n",
    "UpOrDown = 0\n",
    "UOD = 0\n",
    "UpOrDown1 = 0\n",
    "shortVar = 0\n",
    "returnVar = 0\n",
    "meanDevTot = 0\n",
    "money1 = float(money2)\n",
    "money = int(money1)\n",
    "Money = money\n",
    "Spendable = 0\n",
    "chartcount = 0\n",
    "moneyOption = si.get_live_price(ticker)\n",
    "onOff = False\n",
    "IO = False\n",
    "incrby = 0\n",
    "accuracy = 0\n",
    "washington = 0\n",
    "tesTla = False\n",
    "while (money - moneyOption) > 0:\n",
    "        money -= moneyOption\n",
    "        Spendable += 1\n",
    "\n",
    "for i in range (transaction):\n",
    "    UpOrDown = 0\n",
    "    UOD = 0\n",
    "    chartcount = 0\n",
    "    UpOrDown1 = 0\n",
    "    buyVar = 0\n",
    "    sellVar = 0\n",
    "    bucketVar = 0\n",
    "    totalBuySellChartData = 0\n",
    "    total = 0\n",
    "    price = si.get_live_price(ticker)\n",
    "    price2 = si.get_live_price(ticker)\n",
    "    liveDataChart.append(price)\n",
    "    while len(liveDataChart) < washington:\n",
    "        while price == price2:\n",
    "            price2 = si.get_live_price(ticker)\n",
    "        liveDataChart.append(price2)\n",
    "        price = price2\n",
    "    joseph = 0\n",
    "    if not liveDataChart:\n",
    "        joseph = 0\n",
    "    for j in range(len(liveDataChart)):\n",
    "        joseph = joseph + liveDataChart[j]\n",
    "    joseph = joseph/len(liveDataChart)\n",
    "    total = joseph\n",
    "    for q in range(len(liveDataChart)):\n",
    "        chartcount += 1\n",
    "    if IO == False:\n",
    "        UpOrDown = abs(liveDataChart[chartcount-1] - liveDataChart[chartcount - 2])\n",
    "        UOD = UpOrDown/5\n",
    "        incrby = 0\n",
    "    else:\n",
    "        UOD = UOD\n",
    "    if incrby > 2:\n",
    "        IO = False\n",
    "        incrby = 0\n",
    "    else: \n",
    "        IO = True\n",
    "        incrby += 1\n",
    "    if not liveDataChart:\n",
    "        print(\"dang\")\n",
    "    else:\n",
    "        if liveDataChart[0] < total:\n",
    "            #buying \n",
    "            print(\"--------------------------------------------\")\n",
    "            print(\"buying\")\n",
    "            buyVar = si.get_live_price(ticker)\n",
    "            sellVar = si.get_live_price(ticker)\n",
    "            while ((si.get_live_price(ticker)) < (buyVar + UOD)):\n",
    "                sellVar = si.get_live_price(ticker)\n",
    "                if (si.get_live_price(ticker) < (buyVar - (UOD/2))):\n",
    "                    sellVar = si.get_live_price(ticker)\n",
    "                    break\n",
    "            print(\"buyVar:  \" + str(buyVar))\n",
    "            print(\"sellVar: \" + str(sellVar))\n",
    "            print(\"profit: \" + str((sellVar - buyVar) * Spendable))\n",
    "            buySellChart.append((sellVar - buyVar) * Spendable)\n",
    "            if ((sellVar - buyVar) * Spendable) < 0:\n",
    "                print('loss')\n",
    "            elif ((sellVar - buyVar) * Spendable) > 0:\n",
    "                accuracy += 1\n",
    "                print('no loss')\n",
    "            else:\n",
    "                print('mediocre')\n",
    "        elif liveDataChart[0] > total:\n",
    "            #shorting\n",
    "            print(\"--------------------------------------------\")\n",
    "            print(\"shorting\")\n",
    "            buyVar = si.get_live_price(ticker)\n",
    "            sellVar = si.get_live_price(ticker)\n",
    "            while ((si.get_live_price(ticker)) > (buyVar - UOD)):\n",
    "                sellVar = si.get_live_price(ticker)\n",
    "                if (si.get_live_price(ticker) > (buyVar + (UOD/2))):\n",
    "                    sellVar = si.get_live_price(ticker)\n",
    "                    break\n",
    "            print(\"buyVar:  \" + str(buyVar))\n",
    "            print(\"sellVar: \" + str(sellVar))\n",
    "            print(\"profit :\" + str((buyVar - sellVar) * Spendable))\n",
    "            buySellChart.append((buyVar - sellVar) * Spendable)\n",
    "            if ((buyVar - sellVar) * Spendable) < 0:\n",
    "                print('loss')\n",
    "            elif ((buyVar - sellVar) * Spendable) > 0:\n",
    "                accuracy += 1\n",
    "                print('no loss')\n",
    "            else:\n",
    "                print('mediocre')\n",
    "            if onOff == False:\n",
    "                washington = 3\n",
    "                onOff = True\n",
    "                liveDataChart = []\n",
    "            else:\n",
    "                washington = 4\n",
    "                onOff = False\n",
    "                liveDataChart = []\n",
    "    print(i + 1)\n",
    "for i in range(len(buySellChart)):\n",
    "    totalBuySellChartData = totalBuySellChartData + buySellChart[i]\n",
    "print(\"--------------------------------------------\")\n",
    "print(\"total profit: \" + str(totalBuySellChartData))\n",
    "print(\"percent profit: \" + str(float(((totalBuySellChartData + Money)/Money)*100)))\n",
    "print(\"Total money value :\" + str(float(totalBuySellChartData + Money)))\n",
    "print(\"Percent Accurate: \" + str(float((accuracy/transaction)*100)))"
   ]
  },
  {
   "cell_type": "code",
   "execution_count": null,
   "id": "50bf40cb-0fa9-4359-8585-e8ddb103550d",
   "metadata": {},
   "outputs": [],
   "source": []
  },
  {
   "cell_type": "code",
   "execution_count": null,
   "id": "4fa6dc1f-92e6-4427-bb9e-ce278abc07aa",
   "metadata": {},
   "outputs": [],
   "source": []
  }
 ],
 "metadata": {
  "kernelspec": {
   "display_name": "Python 3",
   "language": "python",
   "name": "python3"
  },
  "language_info": {
   "codemirror_mode": {
    "name": "ipython",
    "version": 3
   },
   "file_extension": ".py",
   "mimetype": "text/x-python",
   "name": "python",
   "nbconvert_exporter": "python",
   "pygments_lexer": "ipython3",
   "version": "3.9.5"
  }
 },
 "nbformat": 4,
 "nbformat_minor": 5
}
